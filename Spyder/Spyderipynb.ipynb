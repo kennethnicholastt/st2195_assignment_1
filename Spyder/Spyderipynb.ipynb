{
 "cells": [
  {
   "cell_type": "code",
   "execution_count": 1,
   "id": "9b99e046",
   "metadata": {},
   "outputs": [
    {
     "name": "stdout",
     "output_type": "stream",
     "text": [
      "the current number is 1\n",
      "the current number is 2\n",
      "the current number is 3\n",
      "the current number is 4\n",
      "the current number is 5\n",
      "the current number is 6\n",
      "the current number is 7\n",
      "the current number is 8\n",
      "the current number is 9\n",
      "the current number is 10\n"
     ]
    }
   ],
   "source": [
    "#!/usr/bin/env python3\n",
    "# -*- coding: utf-8 -*-\n",
    "\"\"\"\n",
    "Created on Tue Oct  4 12:49:37 2022\n",
    "@author: kennethnicholastanoyo\n",
    "\"\"\"\n",
    "\n",
    "\n",
    "numbers =[1,2,3,4,5,6,7,8,9,10]\n",
    "for number in numbers:\n",
    "    print(\"the current number is\", number)\n",
    "    "
   ]
  },
  {
   "cell_type": "code",
   "execution_count": 2,
   "id": "9261cd11",
   "metadata": {},
   "outputs": [],
   "source": [
    "##Hello Hello Hello Hello Hello"
   ]
  },
  {
   "cell_type": "code",
   "execution_count": null,
   "id": "6e85ea70",
   "metadata": {},
   "outputs": [],
   "source": []
  }
 ],
 "metadata": {
  "kernelspec": {
   "display_name": "Python 3 (ipykernel)",
   "language": "python",
   "name": "python3"
  },
  "language_info": {
   "codemirror_mode": {
    "name": "ipython",
    "version": 3
   },
   "file_extension": ".py",
   "mimetype": "text/x-python",
   "name": "python",
   "nbconvert_exporter": "python",
   "pygments_lexer": "ipython3",
   "version": "3.9.12"
  }
 },
 "nbformat": 4,
 "nbformat_minor": 5
}
